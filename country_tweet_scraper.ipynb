{
 "cells": [
  {
   "cell_type": "markdown",
   "metadata": {},
   "source": [
    "# Twitter scraper by country\n",
    "This is a simple project which scrapes 100 to 1000 tweets from a given country.\n",
    "\n",
    "### Technologies Used\n",
    "* Web scraping\n",
    "* Tweepy API \n",
    "* File storage (using csv module)\n",
    "* ReGex expressions (using re module)\n",
    "\n",
    "### Requirements\n",
    "* APIs: tweepy \n",
    "* Modules: csv, re\n",
    "* Twitter Developer credentials"
   ]
  },
  {
   "cell_type": "code",
   "execution_count": null,
   "metadata": {},
   "outputs": [],
   "source": [
    "%config IPCompleter.greedy=True\n",
    "\n",
    "import tweepy\n",
    "import csv\n",
    "import re"
   ]
  },
  {
   "cell_type": "markdown",
   "metadata": {},
   "source": [
    "First, we set up our authentication details for accessing Twitter and initialise our Tweepy API. We will need a/an:\n",
    "* access key, \n",
    "* acces secret, \n",
    "* token key, and \n",
    "* token secret. "
   ]
  },
  {
   "cell_type": "code",
   "execution_count": 2,
   "metadata": {},
   "outputs": [],
   "source": [
    "# Create authentication for accessing Twitter\n",
    "\n",
    "# TODO: Enter your Twitter Developer credentials (Access key, Access secret, Token key, Token secret)\n",
    "auth = tweepy.OAuthHandler(\"\", \"\")\n",
    "auth.set_access_token(\"\", \"\")\n",
    "\n",
    "# Initialize Tweepy API\n",
    "api = tweepy.API(auth)"
   ]
  },
  {
   "cell_type": "markdown",
   "metadata": {},
   "source": [
    "Next, we open a .csv file which we will use to store all our tweets from a given country. Then, we create a Writer to the file and proceed to write a row of column headers to the now-blank .csv file."
   ]
  },
  {
   "cell_type": "code",
   "execution_count": 3,
   "metadata": {},
   "outputs": [],
   "source": [
    "# Open/Create a file to append data\n",
    "csvFile = open('tweets.csv', 'a', newline='')\n",
    "\n",
    "def create_file(file):\n",
    "    # Use csv Writer\n",
    "    csvWriter = csv.writer(file)\n",
    "\n",
    "    # Create a header row in the Excel sheet\n",
    "    csvWriter.writerow([\"Date-time created\", \"Tweet Content\", \"User Screen Name\", \"Tweet Place\", \"Tweet Coordinates\", \"Tweet Geo Code\"])\n",
    "    \n",
    "    return csvWriter"
   ]
  },
  {
   "cell_type": "markdown",
   "metadata": {},
   "source": [
    "The next function takes in a country name as well as a .csv Writer. With both of these, both a geo-search and a regular search are used to pinpoint the country and get the tweets from that country respectively.\n",
    "\n",
    "In this function, we clean up each tweet in a number of different ways. First, we use the tweet-id and api.get_status() to get the full text of each tweet (recall that tweets are usually truncated). Second, we remove all the new line characters. Third, we remove all the emojis using a ReGex expression for byte code emojis.\n",
    "\n",
    "We also close the file in this function. "
   ]
  },
  {
   "cell_type": "code",
   "execution_count": 4,
   "metadata": {},
   "outputs": [],
   "source": [
    " def find_tweets_from(country, writer):\n",
    "    # Use a geo-search to get the country in question\n",
    "    places = api.geo_search(query=country, granularity=\"country\")\n",
    "    place_id = places[0].id\n",
    "\n",
    "    # Use a regular search based on the output of the geo-search to get (at most) 1000 tweets\n",
    "    for tweet in tweepy.Cursor(api.search, q=\"place:%s\" % place_id).items(1000):\n",
    "\n",
    "        # Enable app to access full tweets rather than the default truncated tweets\n",
    "        status = api.get_status(tweet.id, tweet_mode=\"extended\")\n",
    "\n",
    "        # Replace all the next-line characters\n",
    "        tweet_converted = status.full_text.replace('\\n',' ')\n",
    "\n",
    "        # Remove all emojis\n",
    "        tweet_converted = re.sub(r'[^\\x00-\\x7F]+',' ', tweet_converted)\n",
    "\n",
    "        # Create a row for each filtered tweet\n",
    "        writer.writerow([tweet.created_at,\\\n",
    "                            tweet_converted.encode('utf-8'),\\\n",
    "                            tweet.user.screen_name,\\\n",
    "                            tweet.place.name if tweet.place else \"Undefined place\",\\\n",
    "                            tweet.coordinates,\\\n",
    "                            tweet.geo])\n",
    "\n",
    "    csvFile.close()    "
   ]
  },
  {
   "cell_type": "markdown",
   "metadata": {},
   "source": [
    "Finally, the user provides the name of a country (e.g. USA, Nigeria, Ghana) and the appropriate functions are called. To view our dcraped data, we navigate to the folder holding this notebook and double-click on the Excel sheet with the same name. "
   ]
  },
  {
   "cell_type": "code",
   "execution_count": null,
   "metadata": {},
   "outputs": [],
   "source": [
    "country_name = input(\"Enter country name: \")\n",
    "\n",
    "# Execute main code block\n",
    "find_tweets_from(country_name, create_file(csvFile))\n",
    "\n",
    "print(\"Scraping complete!\")"
   ]
  },
  {
   "cell_type": "markdown",
   "metadata": {},
   "source": [
    "## References\n",
    "* http://docs.tweepy.org/en/latest/cursor_tutorial.html\n",
    "* http://docs.tweepy.org/en/latest/extended_tweets.html\n",
    "* http://docs.tweepy.org/en/latest/api.html?highlight=place#API.geo_id\n",
    "* https://towardsdatascience.com/extracting-twitter-data-pre-processing-and-sentiment-analysis-using-python-3-0-7192bd8b47cf\n",
    "* https://stackoverflow.com/questions/17633378/how-can-we-get-tweets-from-specific-country\n",
    "* https://stackoverflow.com/questions/3348460/csv-file-written-with-python-has-blank-lines-between-each-row"
   ]
  }
 ],
 "metadata": {
  "kernelspec": {
   "display_name": "Python 3",
   "language": "python",
   "name": "python3"
  },
  "language_info": {
   "codemirror_mode": {
    "name": "ipython",
    "version": 3
   },
   "file_extension": ".py",
   "mimetype": "text/x-python",
   "name": "python",
   "nbconvert_exporter": "python",
   "pygments_lexer": "ipython3",
   "version": "3.7.4"
  }
 },
 "nbformat": 4,
 "nbformat_minor": 2
}
